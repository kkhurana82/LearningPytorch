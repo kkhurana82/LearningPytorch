{
  "cells": [
    {
      "cell_type": "markdown",
      "metadata": {
        "id": "view-in-github",
        "colab_type": "text"
      },
      "source": [
        "<a href=\"https://colab.research.google.com/github/kkhurana82/LearningPytorch/blob/main/notebooks/pytorch_pipeline_nn_module.ipynb\" target=\"_parent\"><img src=\"https://colab.research.google.com/assets/colab-badge.svg\" alt=\"Open In Colab\"/></a>"
      ]
    },
    {
      "cell_type": "markdown",
      "id": "743229c8",
      "metadata": {
        "id": "743229c8"
      },
      "source": [
        " ## ** Pytorch pipeline using NN module**"
      ]
    },
    {
      "cell_type": "markdown",
      "id": "c2fb962c",
      "metadata": {
        "id": "c2fb962c"
      },
      "source": []
    },
    {
      "cell_type": "code",
      "execution_count": 326,
      "id": "gwDUVooCBCFn",
      "metadata": {
        "id": "gwDUVooCBCFn"
      },
      "outputs": [],
      "source": [
        "import torch\n",
        "import torch.nn as nn\n",
        "\n",
        "class Model(nn.Module):\n",
        "    def __init__(self, num_features):\n",
        "        super(Model, self).__init__()\n",
        "        self.linear = nn.Linear(num_features,1)\n",
        "        self.sigmoid = nn.Sigmoid()\n",
        "\n",
        "    def forward(self, features):\n",
        "        z = self.linear(features)\n",
        "        out = self.sigmoid(z)\n",
        "        return out\n"
      ]
    },
    {
      "cell_type": "code",
      "execution_count": 327,
      "id": "j-6kwrjyBJoZ",
      "metadata": {
        "id": "j-6kwrjyBJoZ"
      },
      "outputs": [],
      "source": [
        "# create fake dataset\n",
        "features = torch.rand(10,5)\n",
        "\n",
        "# create model\n",
        "model = Model(features.shape[1])\n",
        "\n",
        "# call ffd pass\n",
        "\n",
        "out = model(features)\n"
      ]
    },
    {
      "cell_type": "code",
      "execution_count": 328,
      "id": "cIqEAN2cBSg0",
      "metadata": {
        "colab": {
          "base_uri": "https://localhost:8080/"
        },
        "id": "cIqEAN2cBSg0",
        "outputId": "c024111f-c9e3-4167-c2e1-3c1bf523b700"
      },
      "outputs": [
        {
          "output_type": "execute_result",
          "data": {
            "text/plain": [
              "tensor([[0.4789],\n",
              "        [0.4254],\n",
              "        [0.4507],\n",
              "        [0.4958],\n",
              "        [0.4346],\n",
              "        [0.5192],\n",
              "        [0.4226],\n",
              "        [0.5615],\n",
              "        [0.4298],\n",
              "        [0.5154]], grad_fn=<SigmoidBackward0>)"
            ]
          },
          "metadata": {},
          "execution_count": 328
        }
      ],
      "source": [
        "out"
      ]
    },
    {
      "cell_type": "code",
      "execution_count": 329,
      "id": "rTkIShIZC4ve",
      "metadata": {
        "id": "rTkIShIZC4ve",
        "colab": {
          "base_uri": "https://localhost:8080/"
        },
        "outputId": "92a93197-b827-41cd-802c-b9dfcd1c93a5"
      },
      "outputs": [
        {
          "output_type": "execute_result",
          "data": {
            "text/plain": [
              "Linear(in_features=5, out_features=1, bias=True)"
            ]
          },
          "metadata": {},
          "execution_count": 329
        }
      ],
      "source": [
        "model.linear"
      ]
    },
    {
      "cell_type": "code",
      "source": [
        "model.linear.bias"
      ],
      "metadata": {
        "colab": {
          "base_uri": "https://localhost:8080/"
        },
        "id": "gNiQxsdlj-hS",
        "outputId": "f267062b-a178-43a7-d3ee-e5f5adbc9928"
      },
      "id": "gNiQxsdlj-hS",
      "execution_count": 330,
      "outputs": [
        {
          "output_type": "execute_result",
          "data": {
            "text/plain": [
              "Parameter containing:\n",
              "tensor([-0.0327], requires_grad=True)"
            ]
          },
          "metadata": {},
          "execution_count": 330
        }
      ]
    },
    {
      "cell_type": "code",
      "source": [
        "model.linear.in_features"
      ],
      "metadata": {
        "colab": {
          "base_uri": "https://localhost:8080/"
        },
        "id": "s_RpiRlrkCMn",
        "outputId": "623b20f6-0f87-47ab-ccac-59532911c7df"
      },
      "id": "s_RpiRlrkCMn",
      "execution_count": 331,
      "outputs": [
        {
          "output_type": "execute_result",
          "data": {
            "text/plain": [
              "5"
            ]
          },
          "metadata": {},
          "execution_count": 331
        }
      ]
    },
    {
      "cell_type": "code",
      "source": [
        "model.linear.out_features"
      ],
      "metadata": {
        "colab": {
          "base_uri": "https://localhost:8080/"
        },
        "id": "qQEPUeLIkIok",
        "outputId": "ac1dde9c-d568-4bc3-d302-eb00f8d858ee"
      },
      "id": "qQEPUeLIkIok",
      "execution_count": 332,
      "outputs": [
        {
          "output_type": "execute_result",
          "data": {
            "text/plain": [
              "1"
            ]
          },
          "metadata": {},
          "execution_count": 332
        }
      ]
    },
    {
      "cell_type": "code",
      "source": [
        "!pip install torchinfo"
      ],
      "metadata": {
        "colab": {
          "base_uri": "https://localhost:8080/"
        },
        "id": "tmeggqI2kLhW",
        "outputId": "cb887087-15a3-47ce-ad47-b53531de673c"
      },
      "id": "tmeggqI2kLhW",
      "execution_count": 333,
      "outputs": [
        {
          "output_type": "stream",
          "name": "stdout",
          "text": [
            "Requirement already satisfied: torchinfo in /usr/local/lib/python3.12/dist-packages (1.8.0)\n"
          ]
        }
      ]
    },
    {
      "cell_type": "code",
      "source": [
        "# show model weights\n",
        "model.linear.weight"
      ],
      "metadata": {
        "colab": {
          "base_uri": "https://localhost:8080/"
        },
        "id": "Wa6zh1ogkOYX",
        "outputId": "b7ffa869-60c2-43e9-84a1-e53fc462615e"
      },
      "id": "Wa6zh1ogkOYX",
      "execution_count": 334,
      "outputs": [
        {
          "output_type": "execute_result",
          "data": {
            "text/plain": [
              "Parameter containing:\n",
              "tensor([[ 0.3354, -0.2314, -0.3737,  0.3587, -0.1923]], requires_grad=True)"
            ]
          },
          "metadata": {},
          "execution_count": 334
        }
      ]
    },
    {
      "cell_type": "code",
      "source": [
        "from torchinfo import summary\n",
        "\n",
        "summary(model, input_size=(10, 5))"
      ],
      "metadata": {
        "colab": {
          "base_uri": "https://localhost:8080/"
        },
        "id": "NT1tcEUmkuJI",
        "outputId": "6e6177e3-a824-4faf-ff0b-98b927ea8cf7"
      },
      "id": "NT1tcEUmkuJI",
      "execution_count": 335,
      "outputs": [
        {
          "output_type": "execute_result",
          "data": {
            "text/plain": [
              "==========================================================================================\n",
              "Layer (type:depth-idx)                   Output Shape              Param #\n",
              "==========================================================================================\n",
              "Model                                    [10, 1]                   --\n",
              "├─Linear: 1-1                            [10, 1]                   6\n",
              "├─Sigmoid: 1-2                           [10, 1]                   --\n",
              "==========================================================================================\n",
              "Total params: 6\n",
              "Trainable params: 6\n",
              "Non-trainable params: 0\n",
              "Total mult-adds (Units.MEGABYTES): 0.00\n",
              "==========================================================================================\n",
              "Input size (MB): 0.00\n",
              "Forward/backward pass size (MB): 0.00\n",
              "Params size (MB): 0.00\n",
              "Estimated Total Size (MB): 0.00\n",
              "=========================================================================================="
            ]
          },
          "metadata": {},
          "execution_count": 335
        }
      ]
    },
    {
      "cell_type": "code",
      "source": [
        "# new model with hiddel layer and ReLu\n",
        "\n",
        "class Model2(nn.Module):\n",
        "    def __init__(self, num_features):\n",
        "        super(Model2, self).__init__()\n",
        "        self.input = nn.Linear(num_features,5)\n",
        "        self.relu = nn.ReLU()\n",
        "        self.hiddel1 = nn.Linear(5,3)\n",
        "        self.output = nn.Linear(3,1)\n",
        "        self.sigmoid = nn.Sigmoid()\n",
        "\n",
        "    def forward(self, features):\n",
        "        out = self.input(features)\n",
        "        out = self.relu(out)\n",
        "        out = self.hiddel1(out)\n",
        "        out = self.output(out)\n",
        "        out = self.sigmoid(out)\n",
        "        return out\n"
      ],
      "metadata": {
        "id": "clnXy0qhl61G"
      },
      "id": "clnXy0qhl61G",
      "execution_count": 336,
      "outputs": []
    },
    {
      "cell_type": "code",
      "source": [
        "\n",
        "features = torch.rand(10,5)\n",
        "\n",
        "model2 = Model2(features.shape[1])\n",
        "\n",
        "## ffd pass\n",
        "out = model2(features)"
      ],
      "metadata": {
        "id": "Sz0uATzFnJI9"
      },
      "id": "Sz0uATzFnJI9",
      "execution_count": 337,
      "outputs": []
    },
    {
      "cell_type": "code",
      "source": [
        "out"
      ],
      "metadata": {
        "colab": {
          "base_uri": "https://localhost:8080/"
        },
        "id": "VCqfY-55pNdf",
        "outputId": "77b71c55-e7d5-4abe-c9dd-1a648ca6edf9"
      },
      "id": "VCqfY-55pNdf",
      "execution_count": 338,
      "outputs": [
        {
          "output_type": "execute_result",
          "data": {
            "text/plain": [
              "tensor([[0.5534],\n",
              "        [0.5464],\n",
              "        [0.5563],\n",
              "        [0.5506],\n",
              "        [0.5570],\n",
              "        [0.5506],\n",
              "        [0.5458],\n",
              "        [0.5512],\n",
              "        [0.5480],\n",
              "        [0.5462]], grad_fn=<SigmoidBackward0>)"
            ]
          },
          "metadata": {},
          "execution_count": 338
        }
      ]
    },
    {
      "cell_type": "code",
      "source": [
        "model2.input.weight"
      ],
      "metadata": {
        "colab": {
          "base_uri": "https://localhost:8080/"
        },
        "id": "u_H5hzz6pOM4",
        "outputId": "db406ee9-279a-43c5-fabc-b6a01f07dd88"
      },
      "id": "u_H5hzz6pOM4",
      "execution_count": 339,
      "outputs": [
        {
          "output_type": "execute_result",
          "data": {
            "text/plain": [
              "Parameter containing:\n",
              "tensor([[ 0.1588, -0.4016,  0.4420, -0.1765,  0.0661],\n",
              "        [-0.3431, -0.4049,  0.3844, -0.1844,  0.3034],\n",
              "        [ 0.2325, -0.0791, -0.1632, -0.3330,  0.1506],\n",
              "        [ 0.1012,  0.2557,  0.2801, -0.3008,  0.0209],\n",
              "        [ 0.4399,  0.3072, -0.4199,  0.3050,  0.2748]], requires_grad=True)"
            ]
          },
          "metadata": {},
          "execution_count": 339
        }
      ]
    },
    {
      "cell_type": "code",
      "source": [
        "model2.hiddel1.weight"
      ],
      "metadata": {
        "colab": {
          "base_uri": "https://localhost:8080/"
        },
        "id": "HLONMGqypXMS",
        "outputId": "41e03094-1c24-4a36-bbf2-03e3daddb1c9"
      },
      "id": "HLONMGqypXMS",
      "execution_count": 340,
      "outputs": [
        {
          "output_type": "execute_result",
          "data": {
            "text/plain": [
              "Parameter containing:\n",
              "tensor([[-0.1456,  0.0608,  0.3667, -0.1778, -0.4104],\n",
              "        [-0.3962,  0.2587, -0.1091,  0.2341, -0.3852],\n",
              "        [ 0.0445, -0.1235, -0.0350,  0.3638,  0.1256]], requires_grad=True)"
            ]
          },
          "metadata": {},
          "execution_count": 340
        }
      ]
    },
    {
      "cell_type": "code",
      "source": [
        "model2.output.weight"
      ],
      "metadata": {
        "colab": {
          "base_uri": "https://localhost:8080/"
        },
        "id": "2BxFK62CrZwx",
        "outputId": "281c147e-db86-494c-a637-1b46345476ce"
      },
      "id": "2BxFK62CrZwx",
      "execution_count": 341,
      "outputs": [
        {
          "output_type": "execute_result",
          "data": {
            "text/plain": [
              "Parameter containing:\n",
              "tensor([[ 0.0917, -0.2625,  0.5389]], requires_grad=True)"
            ]
          },
          "metadata": {},
          "execution_count": 341
        }
      ]
    },
    {
      "cell_type": "code",
      "source": [
        "summary(model2,input_size=(10,5))"
      ],
      "metadata": {
        "colab": {
          "base_uri": "https://localhost:8080/"
        },
        "id": "EEHCEbISreWV",
        "outputId": "0d0458a8-fb88-4324-ad0c-7ea4800fcaad"
      },
      "id": "EEHCEbISreWV",
      "execution_count": 342,
      "outputs": [
        {
          "output_type": "execute_result",
          "data": {
            "text/plain": [
              "==========================================================================================\n",
              "Layer (type:depth-idx)                   Output Shape              Param #\n",
              "==========================================================================================\n",
              "Model2                                   [10, 1]                   --\n",
              "├─Linear: 1-1                            [10, 5]                   30\n",
              "├─ReLU: 1-2                              [10, 5]                   --\n",
              "├─Linear: 1-3                            [10, 3]                   18\n",
              "├─Linear: 1-4                            [10, 1]                   4\n",
              "├─Sigmoid: 1-5                           [10, 1]                   --\n",
              "==========================================================================================\n",
              "Total params: 52\n",
              "Trainable params: 52\n",
              "Non-trainable params: 0\n",
              "Total mult-adds (Units.MEGABYTES): 0.00\n",
              "==========================================================================================\n",
              "Input size (MB): 0.00\n",
              "Forward/backward pass size (MB): 0.00\n",
              "Params size (MB): 0.00\n",
              "Estimated Total Size (MB): 0.00\n",
              "=========================================================================================="
            ]
          },
          "metadata": {},
          "execution_count": 342
        }
      ]
    },
    {
      "cell_type": "code",
      "source": [
        "# new model with sequential container\n",
        "\n",
        "class Model3(nn.Module):\n",
        "    def __init__(self, num_features):\n",
        "        super(Model3, self).__init__()\n",
        "        self.network = nn.Sequential(\n",
        "          nn.Linear(num_features,5),\n",
        "          nn.ReLU(),\n",
        "          nn.Linear(5,3),\n",
        "          nn.Linear(3,1),\n",
        "          nn.Sigmoid()\n",
        "        )\n",
        "\n",
        "    def forward(self, features):\n",
        "        out = self.network(features)\n",
        "\n",
        "        return out"
      ],
      "metadata": {
        "id": "0zF1IilNsdKV"
      },
      "id": "0zF1IilNsdKV",
      "execution_count": 343,
      "outputs": []
    },
    {
      "cell_type": "code",
      "source": [
        "\n",
        "features = torch.rand(10,5)\n",
        "\n",
        "model3 = Model3(features.shape[1])\n",
        "\n",
        "## ffd pass\n",
        "out = model3(features)"
      ],
      "metadata": {
        "id": "1LtEQ07Kt4cX"
      },
      "id": "1LtEQ07Kt4cX",
      "execution_count": 344,
      "outputs": []
    },
    {
      "cell_type": "code",
      "source": [
        "model3.network"
      ],
      "metadata": {
        "id": "7wFMKSkot_2S",
        "outputId": "15cfc29b-ccb2-483f-9f2a-dd97acab81cc",
        "colab": {
          "base_uri": "https://localhost:8080/"
        }
      },
      "id": "7wFMKSkot_2S",
      "execution_count": 345,
      "outputs": [
        {
          "output_type": "execute_result",
          "data": {
            "text/plain": [
              "Sequential(\n",
              "  (0): Linear(in_features=5, out_features=5, bias=True)\n",
              "  (1): ReLU()\n",
              "  (2): Linear(in_features=5, out_features=3, bias=True)\n",
              "  (3): Linear(in_features=3, out_features=1, bias=True)\n",
              "  (4): Sigmoid()\n",
              ")"
            ]
          },
          "metadata": {},
          "execution_count": 345
        }
      ]
    },
    {
      "cell_type": "code",
      "source": [
        "model3.network[0].weight"
      ],
      "metadata": {
        "id": "kknqSuCBuJzv",
        "outputId": "a152b9df-0c82-4140-f428-9b08c12dac4e",
        "colab": {
          "base_uri": "https://localhost:8080/"
        }
      },
      "id": "kknqSuCBuJzv",
      "execution_count": 346,
      "outputs": [
        {
          "output_type": "execute_result",
          "data": {
            "text/plain": [
              "Parameter containing:\n",
              "tensor([[ 0.1645, -0.2781, -0.1819,  0.3901, -0.0789],\n",
              "        [-0.2826,  0.4211,  0.2694, -0.1124, -0.0359],\n",
              "        [-0.1706, -0.3545, -0.3828, -0.2541, -0.0554],\n",
              "        [ 0.1664, -0.4009, -0.1028,  0.2776, -0.0140],\n",
              "        [ 0.3776,  0.1399, -0.3661, -0.3621,  0.1460]], requires_grad=True)"
            ]
          },
          "metadata": {},
          "execution_count": 346
        }
      ]
    },
    {
      "cell_type": "markdown",
      "source": [
        "## Breast cancer prediction using public dataset"
      ],
      "metadata": {
        "id": "TZbTgJhhuw-t"
      },
      "id": "TZbTgJhhuw-t"
    },
    {
      "cell_type": "code",
      "source": [
        "import numpy as np\n",
        "import pandas as pd\n",
        "import torch\n",
        "from sklearn.model_selection import train_test_split\n",
        "from sklearn.preprocessing import StandardScaler\n",
        "from sklearn.preprocessing import LabelEncoder"
      ],
      "metadata": {
        "id": "gP_JSctUuW0c"
      },
      "id": "gP_JSctUuW0c",
      "execution_count": 347,
      "outputs": []
    },
    {
      "cell_type": "code",
      "source": [
        "df = pd.read_csv('https://raw.githubusercontent.com/gscdit/Breast-Cancer-Detection/refs/heads/master/data.csv')\n",
        "df.head()"
      ],
      "metadata": {
        "id": "OoiFRrOzv16B",
        "outputId": "86a11bfd-1ca2-4f15-f4b5-9833138e7d50",
        "colab": {
          "base_uri": "https://localhost:8080/",
          "height": 273
        }
      },
      "id": "OoiFRrOzv16B",
      "execution_count": 348,
      "outputs": [
        {
          "output_type": "execute_result",
          "data": {
            "text/plain": [
              "         id diagnosis  radius_mean  texture_mean  perimeter_mean  area_mean  \\\n",
              "0    842302         M        17.99         10.38          122.80     1001.0   \n",
              "1    842517         M        20.57         17.77          132.90     1326.0   \n",
              "2  84300903         M        19.69         21.25          130.00     1203.0   \n",
              "3  84348301         M        11.42         20.38           77.58      386.1   \n",
              "4  84358402         M        20.29         14.34          135.10     1297.0   \n",
              "\n",
              "   smoothness_mean  compactness_mean  concavity_mean  concave points_mean  \\\n",
              "0          0.11840           0.27760          0.3001              0.14710   \n",
              "1          0.08474           0.07864          0.0869              0.07017   \n",
              "2          0.10960           0.15990          0.1974              0.12790   \n",
              "3          0.14250           0.28390          0.2414              0.10520   \n",
              "4          0.10030           0.13280          0.1980              0.10430   \n",
              "\n",
              "   ...  texture_worst  perimeter_worst  area_worst  smoothness_worst  \\\n",
              "0  ...          17.33           184.60      2019.0            0.1622   \n",
              "1  ...          23.41           158.80      1956.0            0.1238   \n",
              "2  ...          25.53           152.50      1709.0            0.1444   \n",
              "3  ...          26.50            98.87       567.7            0.2098   \n",
              "4  ...          16.67           152.20      1575.0            0.1374   \n",
              "\n",
              "   compactness_worst  concavity_worst  concave points_worst  symmetry_worst  \\\n",
              "0             0.6656           0.7119                0.2654          0.4601   \n",
              "1             0.1866           0.2416                0.1860          0.2750   \n",
              "2             0.4245           0.4504                0.2430          0.3613   \n",
              "3             0.8663           0.6869                0.2575          0.6638   \n",
              "4             0.2050           0.4000                0.1625          0.2364   \n",
              "\n",
              "   fractal_dimension_worst  Unnamed: 32  \n",
              "0                  0.11890          NaN  \n",
              "1                  0.08902          NaN  \n",
              "2                  0.08758          NaN  \n",
              "3                  0.17300          NaN  \n",
              "4                  0.07678          NaN  \n",
              "\n",
              "[5 rows x 33 columns]"
            ],
            "text/html": [
              "\n",
              "  <div id=\"df-2d531b8c-a17d-47d4-a66c-8f6b535d846f\" class=\"colab-df-container\">\n",
              "    <div>\n",
              "<style scoped>\n",
              "    .dataframe tbody tr th:only-of-type {\n",
              "        vertical-align: middle;\n",
              "    }\n",
              "\n",
              "    .dataframe tbody tr th {\n",
              "        vertical-align: top;\n",
              "    }\n",
              "\n",
              "    .dataframe thead th {\n",
              "        text-align: right;\n",
              "    }\n",
              "</style>\n",
              "<table border=\"1\" class=\"dataframe\">\n",
              "  <thead>\n",
              "    <tr style=\"text-align: right;\">\n",
              "      <th></th>\n",
              "      <th>id</th>\n",
              "      <th>diagnosis</th>\n",
              "      <th>radius_mean</th>\n",
              "      <th>texture_mean</th>\n",
              "      <th>perimeter_mean</th>\n",
              "      <th>area_mean</th>\n",
              "      <th>smoothness_mean</th>\n",
              "      <th>compactness_mean</th>\n",
              "      <th>concavity_mean</th>\n",
              "      <th>concave points_mean</th>\n",
              "      <th>...</th>\n",
              "      <th>texture_worst</th>\n",
              "      <th>perimeter_worst</th>\n",
              "      <th>area_worst</th>\n",
              "      <th>smoothness_worst</th>\n",
              "      <th>compactness_worst</th>\n",
              "      <th>concavity_worst</th>\n",
              "      <th>concave points_worst</th>\n",
              "      <th>symmetry_worst</th>\n",
              "      <th>fractal_dimension_worst</th>\n",
              "      <th>Unnamed: 32</th>\n",
              "    </tr>\n",
              "  </thead>\n",
              "  <tbody>\n",
              "    <tr>\n",
              "      <th>0</th>\n",
              "      <td>842302</td>\n",
              "      <td>M</td>\n",
              "      <td>17.99</td>\n",
              "      <td>10.38</td>\n",
              "      <td>122.80</td>\n",
              "      <td>1001.0</td>\n",
              "      <td>0.11840</td>\n",
              "      <td>0.27760</td>\n",
              "      <td>0.3001</td>\n",
              "      <td>0.14710</td>\n",
              "      <td>...</td>\n",
              "      <td>17.33</td>\n",
              "      <td>184.60</td>\n",
              "      <td>2019.0</td>\n",
              "      <td>0.1622</td>\n",
              "      <td>0.6656</td>\n",
              "      <td>0.7119</td>\n",
              "      <td>0.2654</td>\n",
              "      <td>0.4601</td>\n",
              "      <td>0.11890</td>\n",
              "      <td>NaN</td>\n",
              "    </tr>\n",
              "    <tr>\n",
              "      <th>1</th>\n",
              "      <td>842517</td>\n",
              "      <td>M</td>\n",
              "      <td>20.57</td>\n",
              "      <td>17.77</td>\n",
              "      <td>132.90</td>\n",
              "      <td>1326.0</td>\n",
              "      <td>0.08474</td>\n",
              "      <td>0.07864</td>\n",
              "      <td>0.0869</td>\n",
              "      <td>0.07017</td>\n",
              "      <td>...</td>\n",
              "      <td>23.41</td>\n",
              "      <td>158.80</td>\n",
              "      <td>1956.0</td>\n",
              "      <td>0.1238</td>\n",
              "      <td>0.1866</td>\n",
              "      <td>0.2416</td>\n",
              "      <td>0.1860</td>\n",
              "      <td>0.2750</td>\n",
              "      <td>0.08902</td>\n",
              "      <td>NaN</td>\n",
              "    </tr>\n",
              "    <tr>\n",
              "      <th>2</th>\n",
              "      <td>84300903</td>\n",
              "      <td>M</td>\n",
              "      <td>19.69</td>\n",
              "      <td>21.25</td>\n",
              "      <td>130.00</td>\n",
              "      <td>1203.0</td>\n",
              "      <td>0.10960</td>\n",
              "      <td>0.15990</td>\n",
              "      <td>0.1974</td>\n",
              "      <td>0.12790</td>\n",
              "      <td>...</td>\n",
              "      <td>25.53</td>\n",
              "      <td>152.50</td>\n",
              "      <td>1709.0</td>\n",
              "      <td>0.1444</td>\n",
              "      <td>0.4245</td>\n",
              "      <td>0.4504</td>\n",
              "      <td>0.2430</td>\n",
              "      <td>0.3613</td>\n",
              "      <td>0.08758</td>\n",
              "      <td>NaN</td>\n",
              "    </tr>\n",
              "    <tr>\n",
              "      <th>3</th>\n",
              "      <td>84348301</td>\n",
              "      <td>M</td>\n",
              "      <td>11.42</td>\n",
              "      <td>20.38</td>\n",
              "      <td>77.58</td>\n",
              "      <td>386.1</td>\n",
              "      <td>0.14250</td>\n",
              "      <td>0.28390</td>\n",
              "      <td>0.2414</td>\n",
              "      <td>0.10520</td>\n",
              "      <td>...</td>\n",
              "      <td>26.50</td>\n",
              "      <td>98.87</td>\n",
              "      <td>567.7</td>\n",
              "      <td>0.2098</td>\n",
              "      <td>0.8663</td>\n",
              "      <td>0.6869</td>\n",
              "      <td>0.2575</td>\n",
              "      <td>0.6638</td>\n",
              "      <td>0.17300</td>\n",
              "      <td>NaN</td>\n",
              "    </tr>\n",
              "    <tr>\n",
              "      <th>4</th>\n",
              "      <td>84358402</td>\n",
              "      <td>M</td>\n",
              "      <td>20.29</td>\n",
              "      <td>14.34</td>\n",
              "      <td>135.10</td>\n",
              "      <td>1297.0</td>\n",
              "      <td>0.10030</td>\n",
              "      <td>0.13280</td>\n",
              "      <td>0.1980</td>\n",
              "      <td>0.10430</td>\n",
              "      <td>...</td>\n",
              "      <td>16.67</td>\n",
              "      <td>152.20</td>\n",
              "      <td>1575.0</td>\n",
              "      <td>0.1374</td>\n",
              "      <td>0.2050</td>\n",
              "      <td>0.4000</td>\n",
              "      <td>0.1625</td>\n",
              "      <td>0.2364</td>\n",
              "      <td>0.07678</td>\n",
              "      <td>NaN</td>\n",
              "    </tr>\n",
              "  </tbody>\n",
              "</table>\n",
              "<p>5 rows × 33 columns</p>\n",
              "</div>\n",
              "    <div class=\"colab-df-buttons\">\n",
              "\n",
              "  <div class=\"colab-df-container\">\n",
              "    <button class=\"colab-df-convert\" onclick=\"convertToInteractive('df-2d531b8c-a17d-47d4-a66c-8f6b535d846f')\"\n",
              "            title=\"Convert this dataframe to an interactive table.\"\n",
              "            style=\"display:none;\">\n",
              "\n",
              "  <svg xmlns=\"http://www.w3.org/2000/svg\" height=\"24px\" viewBox=\"0 -960 960 960\">\n",
              "    <path d=\"M120-120v-720h720v720H120Zm60-500h600v-160H180v160Zm220 220h160v-160H400v160Zm0 220h160v-160H400v160ZM180-400h160v-160H180v160Zm440 0h160v-160H620v160ZM180-180h160v-160H180v160Zm440 0h160v-160H620v160Z\"/>\n",
              "  </svg>\n",
              "    </button>\n",
              "\n",
              "  <style>\n",
              "    .colab-df-container {\n",
              "      display:flex;\n",
              "      gap: 12px;\n",
              "    }\n",
              "\n",
              "    .colab-df-convert {\n",
              "      background-color: #E8F0FE;\n",
              "      border: none;\n",
              "      border-radius: 50%;\n",
              "      cursor: pointer;\n",
              "      display: none;\n",
              "      fill: #1967D2;\n",
              "      height: 32px;\n",
              "      padding: 0 0 0 0;\n",
              "      width: 32px;\n",
              "    }\n",
              "\n",
              "    .colab-df-convert:hover {\n",
              "      background-color: #E2EBFA;\n",
              "      box-shadow: 0px 1px 2px rgba(60, 64, 67, 0.3), 0px 1px 3px 1px rgba(60, 64, 67, 0.15);\n",
              "      fill: #174EA6;\n",
              "    }\n",
              "\n",
              "    .colab-df-buttons div {\n",
              "      margin-bottom: 4px;\n",
              "    }\n",
              "\n",
              "    [theme=dark] .colab-df-convert {\n",
              "      background-color: #3B4455;\n",
              "      fill: #D2E3FC;\n",
              "    }\n",
              "\n",
              "    [theme=dark] .colab-df-convert:hover {\n",
              "      background-color: #434B5C;\n",
              "      box-shadow: 0px 1px 3px 1px rgba(0, 0, 0, 0.15);\n",
              "      filter: drop-shadow(0px 1px 2px rgba(0, 0, 0, 0.3));\n",
              "      fill: #FFFFFF;\n",
              "    }\n",
              "  </style>\n",
              "\n",
              "    <script>\n",
              "      const buttonEl =\n",
              "        document.querySelector('#df-2d531b8c-a17d-47d4-a66c-8f6b535d846f button.colab-df-convert');\n",
              "      buttonEl.style.display =\n",
              "        google.colab.kernel.accessAllowed ? 'block' : 'none';\n",
              "\n",
              "      async function convertToInteractive(key) {\n",
              "        const element = document.querySelector('#df-2d531b8c-a17d-47d4-a66c-8f6b535d846f');\n",
              "        const dataTable =\n",
              "          await google.colab.kernel.invokeFunction('convertToInteractive',\n",
              "                                                    [key], {});\n",
              "        if (!dataTable) return;\n",
              "\n",
              "        const docLinkHtml = 'Like what you see? Visit the ' +\n",
              "          '<a target=\"_blank\" href=https://colab.research.google.com/notebooks/data_table.ipynb>data table notebook</a>'\n",
              "          + ' to learn more about interactive tables.';\n",
              "        element.innerHTML = '';\n",
              "        dataTable['output_type'] = 'display_data';\n",
              "        await google.colab.output.renderOutput(dataTable, element);\n",
              "        const docLink = document.createElement('div');\n",
              "        docLink.innerHTML = docLinkHtml;\n",
              "        element.appendChild(docLink);\n",
              "      }\n",
              "    </script>\n",
              "  </div>\n",
              "\n",
              "\n",
              "    <div id=\"df-883917cc-3a0b-4b67-a297-88d1d87a407f\">\n",
              "      <button class=\"colab-df-quickchart\" onclick=\"quickchart('df-883917cc-3a0b-4b67-a297-88d1d87a407f')\"\n",
              "                title=\"Suggest charts\"\n",
              "                style=\"display:none;\">\n",
              "\n",
              "<svg xmlns=\"http://www.w3.org/2000/svg\" height=\"24px\"viewBox=\"0 0 24 24\"\n",
              "     width=\"24px\">\n",
              "    <g>\n",
              "        <path d=\"M19 3H5c-1.1 0-2 .9-2 2v14c0 1.1.9 2 2 2h14c1.1 0 2-.9 2-2V5c0-1.1-.9-2-2-2zM9 17H7v-7h2v7zm4 0h-2V7h2v10zm4 0h-2v-4h2v4z\"/>\n",
              "    </g>\n",
              "</svg>\n",
              "      </button>\n",
              "\n",
              "<style>\n",
              "  .colab-df-quickchart {\n",
              "      --bg-color: #E8F0FE;\n",
              "      --fill-color: #1967D2;\n",
              "      --hover-bg-color: #E2EBFA;\n",
              "      --hover-fill-color: #174EA6;\n",
              "      --disabled-fill-color: #AAA;\n",
              "      --disabled-bg-color: #DDD;\n",
              "  }\n",
              "\n",
              "  [theme=dark] .colab-df-quickchart {\n",
              "      --bg-color: #3B4455;\n",
              "      --fill-color: #D2E3FC;\n",
              "      --hover-bg-color: #434B5C;\n",
              "      --hover-fill-color: #FFFFFF;\n",
              "      --disabled-bg-color: #3B4455;\n",
              "      --disabled-fill-color: #666;\n",
              "  }\n",
              "\n",
              "  .colab-df-quickchart {\n",
              "    background-color: var(--bg-color);\n",
              "    border: none;\n",
              "    border-radius: 50%;\n",
              "    cursor: pointer;\n",
              "    display: none;\n",
              "    fill: var(--fill-color);\n",
              "    height: 32px;\n",
              "    padding: 0;\n",
              "    width: 32px;\n",
              "  }\n",
              "\n",
              "  .colab-df-quickchart:hover {\n",
              "    background-color: var(--hover-bg-color);\n",
              "    box-shadow: 0 1px 2px rgba(60, 64, 67, 0.3), 0 1px 3px 1px rgba(60, 64, 67, 0.15);\n",
              "    fill: var(--button-hover-fill-color);\n",
              "  }\n",
              "\n",
              "  .colab-df-quickchart-complete:disabled,\n",
              "  .colab-df-quickchart-complete:disabled:hover {\n",
              "    background-color: var(--disabled-bg-color);\n",
              "    fill: var(--disabled-fill-color);\n",
              "    box-shadow: none;\n",
              "  }\n",
              "\n",
              "  .colab-df-spinner {\n",
              "    border: 2px solid var(--fill-color);\n",
              "    border-color: transparent;\n",
              "    border-bottom-color: var(--fill-color);\n",
              "    animation:\n",
              "      spin 1s steps(1) infinite;\n",
              "  }\n",
              "\n",
              "  @keyframes spin {\n",
              "    0% {\n",
              "      border-color: transparent;\n",
              "      border-bottom-color: var(--fill-color);\n",
              "      border-left-color: var(--fill-color);\n",
              "    }\n",
              "    20% {\n",
              "      border-color: transparent;\n",
              "      border-left-color: var(--fill-color);\n",
              "      border-top-color: var(--fill-color);\n",
              "    }\n",
              "    30% {\n",
              "      border-color: transparent;\n",
              "      border-left-color: var(--fill-color);\n",
              "      border-top-color: var(--fill-color);\n",
              "      border-right-color: var(--fill-color);\n",
              "    }\n",
              "    40% {\n",
              "      border-color: transparent;\n",
              "      border-right-color: var(--fill-color);\n",
              "      border-top-color: var(--fill-color);\n",
              "    }\n",
              "    60% {\n",
              "      border-color: transparent;\n",
              "      border-right-color: var(--fill-color);\n",
              "    }\n",
              "    80% {\n",
              "      border-color: transparent;\n",
              "      border-right-color: var(--fill-color);\n",
              "      border-bottom-color: var(--fill-color);\n",
              "    }\n",
              "    90% {\n",
              "      border-color: transparent;\n",
              "      border-bottom-color: var(--fill-color);\n",
              "    }\n",
              "  }\n",
              "</style>\n",
              "\n",
              "      <script>\n",
              "        async function quickchart(key) {\n",
              "          const quickchartButtonEl =\n",
              "            document.querySelector('#' + key + ' button');\n",
              "          quickchartButtonEl.disabled = true;  // To prevent multiple clicks.\n",
              "          quickchartButtonEl.classList.add('colab-df-spinner');\n",
              "          try {\n",
              "            const charts = await google.colab.kernel.invokeFunction(\n",
              "                'suggestCharts', [key], {});\n",
              "          } catch (error) {\n",
              "            console.error('Error during call to suggestCharts:', error);\n",
              "          }\n",
              "          quickchartButtonEl.classList.remove('colab-df-spinner');\n",
              "          quickchartButtonEl.classList.add('colab-df-quickchart-complete');\n",
              "        }\n",
              "        (() => {\n",
              "          let quickchartButtonEl =\n",
              "            document.querySelector('#df-883917cc-3a0b-4b67-a297-88d1d87a407f button');\n",
              "          quickchartButtonEl.style.display =\n",
              "            google.colab.kernel.accessAllowed ? 'block' : 'none';\n",
              "        })();\n",
              "      </script>\n",
              "    </div>\n",
              "\n",
              "    </div>\n",
              "  </div>\n"
            ],
            "application/vnd.google.colaboratory.intrinsic+json": {
              "type": "dataframe",
              "variable_name": "df"
            }
          },
          "metadata": {},
          "execution_count": 348
        }
      ]
    },
    {
      "cell_type": "code",
      "source": [
        "df.drop(columns=['id', 'Unnamed: 32'], inplace= True)"
      ],
      "metadata": {
        "id": "j03K8EvvwBde"
      },
      "id": "j03K8EvvwBde",
      "execution_count": 349,
      "outputs": []
    },
    {
      "cell_type": "code",
      "source": [
        "X_train, X_test, y_train, y_test = train_test_split(df.iloc[:, 1:], df.iloc[:, 0], test_size=0.2)"
      ],
      "metadata": {
        "id": "DntZ5XFgv4FT"
      },
      "id": "DntZ5XFgv4FT",
      "execution_count": 350,
      "outputs": []
    },
    {
      "cell_type": "code",
      "source": [
        "scaler = StandardScaler()\n",
        "X_train = scaler.fit_transform(X_train)\n",
        "X_test = scaler.transform(X_test)"
      ],
      "metadata": {
        "id": "G50AXbCmv7Cj"
      },
      "id": "G50AXbCmv7Cj",
      "execution_count": 351,
      "outputs": []
    },
    {
      "cell_type": "code",
      "source": [
        "X_train"
      ],
      "metadata": {
        "id": "aXg60HcDv8zC",
        "outputId": "57e35545-9b97-400a-f9a2-c25122f7eca5",
        "colab": {
          "base_uri": "https://localhost:8080/"
        }
      },
      "id": "aXg60HcDv8zC",
      "execution_count": 352,
      "outputs": [
        {
          "output_type": "execute_result",
          "data": {
            "text/plain": [
              "array([[-1.58060136, -1.73569184, -1.56895979, ..., -1.09441785,\n",
              "         0.48051165,  0.30026408],\n",
              "       [-0.87566056, -1.06335536, -0.90984563, ..., -1.11143447,\n",
              "        -1.59984145, -0.6224702 ],\n",
              "       [-0.12834314, -0.75021234, -0.177635  , ..., -0.70770404,\n",
              "         0.64308856, -0.41346792],\n",
              "       ...,\n",
              "       [-1.0216881 , -0.23214484, -1.05063939, ..., -1.42526296,\n",
              "        -0.34184341, -0.93328029],\n",
              "       [ 0.37845833, -1.71266662,  0.43122534, ...,  0.99139717,\n",
              "         0.47419798,  0.878791  ],\n",
              "       [ 0.13794238,  1.08029281,  0.10187592, ..., -0.71387821,\n",
              "        -0.62122315, -0.6585608 ]])"
            ]
          },
          "metadata": {},
          "execution_count": 352
        }
      ]
    },
    {
      "cell_type": "code",
      "source": [
        "y_train"
      ],
      "metadata": {
        "id": "mQS8NaMEwIra",
        "outputId": "ad0b3e8c-275f-49e4-c07d-a7462be73967",
        "colab": {
          "base_uri": "https://localhost:8080/",
          "height": 458
        }
      },
      "id": "mQS8NaMEwIra",
      "execution_count": 353,
      "outputs": [
        {
          "output_type": "execute_result",
          "data": {
            "text/plain": [
              "59     B\n",
              "173    B\n",
              "374    B\n",
              "413    B\n",
              "445    B\n",
              "      ..\n",
              "549    B\n",
              "5      M\n",
              "443    B\n",
              "172    M\n",
              "90     B\n",
              "Name: diagnosis, Length: 455, dtype: object"
            ],
            "text/html": [
              "<div>\n",
              "<style scoped>\n",
              "    .dataframe tbody tr th:only-of-type {\n",
              "        vertical-align: middle;\n",
              "    }\n",
              "\n",
              "    .dataframe tbody tr th {\n",
              "        vertical-align: top;\n",
              "    }\n",
              "\n",
              "    .dataframe thead th {\n",
              "        text-align: right;\n",
              "    }\n",
              "</style>\n",
              "<table border=\"1\" class=\"dataframe\">\n",
              "  <thead>\n",
              "    <tr style=\"text-align: right;\">\n",
              "      <th></th>\n",
              "      <th>diagnosis</th>\n",
              "    </tr>\n",
              "  </thead>\n",
              "  <tbody>\n",
              "    <tr>\n",
              "      <th>59</th>\n",
              "      <td>B</td>\n",
              "    </tr>\n",
              "    <tr>\n",
              "      <th>173</th>\n",
              "      <td>B</td>\n",
              "    </tr>\n",
              "    <tr>\n",
              "      <th>374</th>\n",
              "      <td>B</td>\n",
              "    </tr>\n",
              "    <tr>\n",
              "      <th>413</th>\n",
              "      <td>B</td>\n",
              "    </tr>\n",
              "    <tr>\n",
              "      <th>445</th>\n",
              "      <td>B</td>\n",
              "    </tr>\n",
              "    <tr>\n",
              "      <th>...</th>\n",
              "      <td>...</td>\n",
              "    </tr>\n",
              "    <tr>\n",
              "      <th>549</th>\n",
              "      <td>B</td>\n",
              "    </tr>\n",
              "    <tr>\n",
              "      <th>5</th>\n",
              "      <td>M</td>\n",
              "    </tr>\n",
              "    <tr>\n",
              "      <th>443</th>\n",
              "      <td>B</td>\n",
              "    </tr>\n",
              "    <tr>\n",
              "      <th>172</th>\n",
              "      <td>M</td>\n",
              "    </tr>\n",
              "    <tr>\n",
              "      <th>90</th>\n",
              "      <td>B</td>\n",
              "    </tr>\n",
              "  </tbody>\n",
              "</table>\n",
              "<p>455 rows × 1 columns</p>\n",
              "</div><br><label><b>dtype:</b> object</label>"
            ]
          },
          "metadata": {},
          "execution_count": 353
        }
      ]
    },
    {
      "cell_type": "code",
      "source": [
        "encoder = LabelEncoder()\n",
        "y_train = encoder.fit_transform(y_train)\n",
        "y_test = encoder.transform(y_test)"
      ],
      "metadata": {
        "id": "dag-BIJHwJ78"
      },
      "id": "dag-BIJHwJ78",
      "execution_count": 354,
      "outputs": []
    },
    {
      "cell_type": "code",
      "source": [
        "y_train"
      ],
      "metadata": {
        "id": "5SOX15u_wQ88",
        "outputId": "906b27f7-9c3f-4675-90d9-6d9abcd50369",
        "colab": {
          "base_uri": "https://localhost:8080/"
        }
      },
      "id": "5SOX15u_wQ88",
      "execution_count": 355,
      "outputs": [
        {
          "output_type": "execute_result",
          "data": {
            "text/plain": [
              "array([0, 0, 0, 0, 0, 1, 0, 0, 1, 0, 1, 0, 1, 1, 0, 0, 1, 0, 0, 0, 0, 1,\n",
              "       1, 1, 1, 0, 0, 1, 0, 1, 1, 0, 1, 0, 1, 0, 0, 0, 1, 0, 1, 0, 0, 0,\n",
              "       1, 0, 0, 0, 0, 1, 0, 0, 1, 1, 0, 0, 0, 0, 0, 0, 0, 0, 0, 0, 0, 0,\n",
              "       1, 1, 1, 1, 1, 0, 0, 0, 0, 0, 1, 1, 1, 0, 1, 1, 0, 1, 1, 0, 0, 0,\n",
              "       1, 0, 0, 1, 1, 0, 0, 1, 1, 1, 0, 0, 1, 0, 0, 0, 1, 0, 0, 0, 0, 0,\n",
              "       1, 0, 1, 0, 0, 0, 0, 1, 1, 1, 0, 1, 1, 0, 0, 1, 0, 0, 1, 0, 1, 0,\n",
              "       0, 0, 0, 0, 0, 1, 0, 1, 1, 1, 1, 0, 0, 1, 0, 0, 1, 0, 0, 1, 0, 0,\n",
              "       1, 1, 1, 0, 0, 1, 1, 0, 0, 0, 1, 0, 0, 0, 1, 0, 0, 0, 1, 1, 1, 0,\n",
              "       1, 0, 1, 1, 1, 1, 0, 0, 1, 0, 1, 0, 1, 0, 0, 0, 0, 0, 0, 0, 0, 1,\n",
              "       1, 1, 1, 0, 0, 0, 1, 0, 0, 0, 0, 1, 1, 0, 1, 1, 0, 1, 0, 1, 0, 1,\n",
              "       0, 0, 0, 0, 0, 1, 0, 0, 0, 0, 1, 0, 0, 0, 0, 1, 1, 0, 0, 1, 0, 1,\n",
              "       0, 0, 1, 0, 1, 1, 0, 0, 1, 1, 0, 0, 0, 1, 0, 1, 0, 1, 1, 0, 0, 1,\n",
              "       0, 1, 0, 1, 0, 0, 0, 0, 0, 0, 0, 0, 1, 0, 0, 0, 1, 1, 1, 0, 1, 0,\n",
              "       0, 0, 0, 0, 0, 0, 0, 1, 1, 1, 0, 1, 0, 1, 0, 1, 0, 0, 0, 0, 0, 0,\n",
              "       0, 1, 0, 0, 0, 0, 0, 1, 1, 0, 0, 0, 1, 1, 0, 0, 0, 0, 0, 0, 0, 0,\n",
              "       1, 0, 0, 0, 0, 1, 0, 0, 1, 0, 0, 1, 0, 1, 1, 0, 0, 0, 0, 0, 0, 0,\n",
              "       0, 1, 1, 0, 0, 0, 1, 0, 1, 1, 0, 1, 1, 1, 0, 1, 1, 0, 1, 1, 0, 0,\n",
              "       0, 1, 1, 0, 1, 0, 0, 0, 1, 0, 0, 1, 1, 0, 1, 1, 0, 0, 1, 0, 1, 1,\n",
              "       0, 0, 1, 0, 0, 0, 0, 0, 1, 0, 0, 0, 1, 0, 0, 0, 0, 1, 0, 0, 0, 1,\n",
              "       0, 0, 0, 1, 0, 1, 0, 1, 0, 0, 1, 1, 1, 1, 1, 1, 0, 1, 0, 1, 0, 0,\n",
              "       0, 0, 0, 0, 0, 1, 0, 1, 0, 0, 0, 1, 0, 1, 0])"
            ]
          },
          "metadata": {},
          "execution_count": 355
        }
      ]
    },
    {
      "cell_type": "code",
      "source": [
        "X_train_tensor = torch.from_numpy(X_train.astype(np.float32))\n",
        "X_test_tensor = torch.from_numpy(X_test.astype(np.float32))\n",
        "y_train_tensor = torch.from_numpy(y_train.astype(np.float32))\n",
        "y_test_tensor = torch.from_numpy(y_test.astype(np.float32))"
      ],
      "metadata": {
        "id": "uVTr4SmAwVdw"
      },
      "id": "uVTr4SmAwVdw",
      "execution_count": 356,
      "outputs": []
    },
    {
      "cell_type": "code",
      "source": [
        "X_train_tensor.shape"
      ],
      "metadata": {
        "id": "5TYn0FG5wV5B",
        "outputId": "4cf27e4f-301e-4969-d3d1-df0c49535655",
        "colab": {
          "base_uri": "https://localhost:8080/"
        }
      },
      "id": "5TYn0FG5wV5B",
      "execution_count": 357,
      "outputs": [
        {
          "output_type": "execute_result",
          "data": {
            "text/plain": [
              "torch.Size([455, 30])"
            ]
          },
          "metadata": {},
          "execution_count": 357
        }
      ]
    },
    {
      "cell_type": "code",
      "source": [
        "y_train_tensor.shape"
      ],
      "metadata": {
        "id": "9BDAPySNwblf",
        "outputId": "f86e32a2-ad93-4927-cbd2-0e3dc9d7bbf7",
        "colab": {
          "base_uri": "https://localhost:8080/"
        }
      },
      "id": "9BDAPySNwblf",
      "execution_count": 358,
      "outputs": [
        {
          "output_type": "execute_result",
          "data": {
            "text/plain": [
              "torch.Size([455])"
            ]
          },
          "metadata": {},
          "execution_count": 358
        }
      ]
    },
    {
      "cell_type": "code",
      "source": [
        "learning_rate = 0.1\n",
        "epochs = 100"
      ],
      "metadata": {
        "id": "olDpqxFiwfUj"
      },
      "id": "olDpqxFiwfUj",
      "execution_count": 359,
      "outputs": []
    },
    {
      "cell_type": "code",
      "source": [
        "# define loss function\n",
        "loss_function = nn.BCELoss()"
      ],
      "metadata": {
        "id": "URx1zWO8wgj1"
      },
      "id": "URx1zWO8wgj1",
      "execution_count": 360,
      "outputs": []
    },
    {
      "cell_type": "code",
      "source": [
        "# create model\n",
        "model = Model3(X_train_tensor.shape[1])\n",
        "\n",
        "# define optimizer\n",
        "optimizer = torch.optim.SGD(model.parameters(), lr=learning_rate)\n",
        "\n",
        "# define loop\n",
        "for epoch in range(epochs):\n",
        "\n",
        "  # forward pass\n",
        "  y_pred = model(X_train_tensor)\n",
        "\n",
        "  # loss calculate\n",
        "  loss = loss_function(y_pred, y_train_tensor.reshape(-1, 1))\n",
        "\n",
        "  # clear gradients\n",
        "  optimizer.zero_grad()\n",
        "\n",
        "  # backward pass\n",
        "  loss.backward()\n",
        "\n",
        "  # parameters update\n",
        "  optimizer.step()\n",
        "\n",
        "  # print loss in each epoch\n",
        "  print(f'Epoch: {epoch + 1}, Loss: {loss.item()}')\n"
      ],
      "metadata": {
        "id": "RYbnRlD7wjjQ",
        "outputId": "bfdce4ef-df26-457f-8374-24499c156445",
        "colab": {
          "base_uri": "https://localhost:8080/"
        }
      },
      "id": "RYbnRlD7wjjQ",
      "execution_count": 361,
      "outputs": [
        {
          "output_type": "stream",
          "name": "stdout",
          "text": [
            "Epoch: 1, Loss: 0.8511942625045776\n",
            "Epoch: 2, Loss: 0.8235855102539062\n",
            "Epoch: 3, Loss: 0.8014426231384277\n",
            "Epoch: 4, Loss: 0.7831091284751892\n",
            "Epoch: 5, Loss: 0.7675375938415527\n",
            "Epoch: 6, Loss: 0.7539842128753662\n",
            "Epoch: 7, Loss: 0.7420557141304016\n",
            "Epoch: 8, Loss: 0.7312700152397156\n",
            "Epoch: 9, Loss: 0.7213302850723267\n",
            "Epoch: 10, Loss: 0.7120783925056458\n",
            "Epoch: 11, Loss: 0.7033014893531799\n",
            "Epoch: 12, Loss: 0.6948765516281128\n",
            "Epoch: 13, Loss: 0.6865808367729187\n",
            "Epoch: 14, Loss: 0.6782851815223694\n",
            "Epoch: 15, Loss: 0.669774055480957\n",
            "Epoch: 16, Loss: 0.6609493494033813\n",
            "Epoch: 17, Loss: 0.6517094969749451\n",
            "Epoch: 18, Loss: 0.6420710682868958\n",
            "Epoch: 19, Loss: 0.6319270730018616\n",
            "Epoch: 20, Loss: 0.6212489604949951\n",
            "Epoch: 21, Loss: 0.6098093390464783\n",
            "Epoch: 22, Loss: 0.5975912809371948\n",
            "Epoch: 23, Loss: 0.5845947265625\n",
            "Epoch: 24, Loss: 0.570661187171936\n",
            "Epoch: 25, Loss: 0.5557900071144104\n",
            "Epoch: 26, Loss: 0.5400490760803223\n",
            "Epoch: 27, Loss: 0.5234906673431396\n",
            "Epoch: 28, Loss: 0.5062297582626343\n",
            "Epoch: 29, Loss: 0.488516241312027\n",
            "Epoch: 30, Loss: 0.47042950987815857\n",
            "Epoch: 31, Loss: 0.452041357755661\n",
            "Epoch: 32, Loss: 0.4334184527397156\n",
            "Epoch: 33, Loss: 0.4147249758243561\n",
            "Epoch: 34, Loss: 0.3961541950702667\n",
            "Epoch: 35, Loss: 0.37788650393486023\n",
            "Epoch: 36, Loss: 0.3600534200668335\n",
            "Epoch: 37, Loss: 0.34270650148391724\n",
            "Epoch: 38, Loss: 0.32601630687713623\n",
            "Epoch: 39, Loss: 0.3101300597190857\n",
            "Epoch: 40, Loss: 0.2951010763645172\n",
            "Epoch: 41, Loss: 0.28097689151763916\n",
            "Epoch: 42, Loss: 0.26777011156082153\n",
            "Epoch: 43, Loss: 0.25543856620788574\n",
            "Epoch: 44, Loss: 0.24398960173130035\n",
            "Epoch: 45, Loss: 0.23340284824371338\n",
            "Epoch: 46, Loss: 0.2236206829547882\n",
            "Epoch: 47, Loss: 0.21457955241203308\n",
            "Epoch: 48, Loss: 0.20625682175159454\n",
            "Epoch: 49, Loss: 0.1985713392496109\n",
            "Epoch: 50, Loss: 0.1914745420217514\n",
            "Epoch: 51, Loss: 0.1849220246076584\n",
            "Epoch: 52, Loss: 0.17887090146541595\n",
            "Epoch: 53, Loss: 0.17326804995536804\n",
            "Epoch: 54, Loss: 0.16805732250213623\n",
            "Epoch: 55, Loss: 0.1632080078125\n",
            "Epoch: 56, Loss: 0.1587051898241043\n",
            "Epoch: 57, Loss: 0.1545226275920868\n",
            "Epoch: 58, Loss: 0.15063464641571045\n",
            "Epoch: 59, Loss: 0.14701484143733978\n",
            "Epoch: 60, Loss: 0.14363503456115723\n",
            "Epoch: 61, Loss: 0.14046074450016022\n",
            "Epoch: 62, Loss: 0.13748154044151306\n",
            "Epoch: 63, Loss: 0.1346934288740158\n",
            "Epoch: 64, Loss: 0.1320805549621582\n",
            "Epoch: 65, Loss: 0.12962915003299713\n",
            "Epoch: 66, Loss: 0.12731006741523743\n",
            "Epoch: 67, Loss: 0.12509125471115112\n",
            "Epoch: 68, Loss: 0.12299138307571411\n",
            "Epoch: 69, Loss: 0.12100522965192795\n",
            "Epoch: 70, Loss: 0.1191253811120987\n",
            "Epoch: 71, Loss: 0.11733964830636978\n",
            "Epoch: 72, Loss: 0.11564189940690994\n",
            "Epoch: 73, Loss: 0.11402396112680435\n",
            "Epoch: 74, Loss: 0.11247924715280533\n",
            "Epoch: 75, Loss: 0.11100973933935165\n",
            "Epoch: 76, Loss: 0.10961209982633591\n",
            "Epoch: 77, Loss: 0.1082911416888237\n",
            "Epoch: 78, Loss: 0.10702703148126602\n",
            "Epoch: 79, Loss: 0.10581855475902557\n",
            "Epoch: 80, Loss: 0.10466117411851883\n",
            "Epoch: 81, Loss: 0.10354071110486984\n",
            "Epoch: 82, Loss: 0.10246536135673523\n",
            "Epoch: 83, Loss: 0.10143258422613144\n",
            "Epoch: 84, Loss: 0.100440114736557\n",
            "Epoch: 85, Loss: 0.09948577731847763\n",
            "Epoch: 86, Loss: 0.09856748580932617\n",
            "Epoch: 87, Loss: 0.09768421947956085\n",
            "Epoch: 88, Loss: 0.09683934599161148\n",
            "Epoch: 89, Loss: 0.09600681811571121\n",
            "Epoch: 90, Loss: 0.09520339965820312\n",
            "Epoch: 91, Loss: 0.09442959725856781\n",
            "Epoch: 92, Loss: 0.09368201345205307\n",
            "Epoch: 93, Loss: 0.09295942634344101\n",
            "Epoch: 94, Loss: 0.0922677293419838\n",
            "Epoch: 95, Loss: 0.0916009247303009\n",
            "Epoch: 96, Loss: 0.09095550328493118\n",
            "Epoch: 97, Loss: 0.09033047407865524\n",
            "Epoch: 98, Loss: 0.08972723037004471\n",
            "Epoch: 99, Loss: 0.0891508087515831\n",
            "Epoch: 100, Loss: 0.08859271556138992\n"
          ]
        }
      ]
    },
    {
      "cell_type": "code",
      "source": [
        "model.network"
      ],
      "metadata": {
        "id": "Zy3ih0_NKwwX",
        "outputId": "7d25d6cc-1914-459e-f642-58cf94b7e4db",
        "colab": {
          "base_uri": "https://localhost:8080/"
        }
      },
      "id": "Zy3ih0_NKwwX",
      "execution_count": 362,
      "outputs": [
        {
          "output_type": "execute_result",
          "data": {
            "text/plain": [
              "Sequential(\n",
              "  (0): Linear(in_features=30, out_features=5, bias=True)\n",
              "  (1): ReLU()\n",
              "  (2): Linear(in_features=5, out_features=3, bias=True)\n",
              "  (3): Linear(in_features=3, out_features=1, bias=True)\n",
              "  (4): Sigmoid()\n",
              ")"
            ]
          },
          "metadata": {},
          "execution_count": 362
        }
      ]
    },
    {
      "cell_type": "code",
      "source": [
        "# model evaluation\n",
        "with torch.no_grad():\n",
        "  y_pred = model.forward(X_test_tensor)\n",
        "  y_pred = (y_pred > 0.8).float()\n",
        "  accuracy = (y_pred == y_test_tensor).float().mean()\n",
        "  print(f'Accuracy: {accuracy.item()}')\n"
      ],
      "metadata": {
        "id": "UVhCTQUmx3OB",
        "outputId": "9b29e4da-0d34-4908-9ca7-8495c1601691",
        "colab": {
          "base_uri": "https://localhost:8080/"
        }
      },
      "id": "UVhCTQUmx3OB",
      "execution_count": 363,
      "outputs": [
        {
          "output_type": "stream",
          "name": "stdout",
          "text": [
            "Accuracy: 0.55755615234375\n"
          ]
        }
      ]
    }
  ],
  "metadata": {
    "colab": {
      "provenance": [],
      "include_colab_link": true
    },
    "kernelspec": {
      "display_name": "Python 3",
      "name": "python3"
    },
    "language_info": {
      "name": "python"
    }
  },
  "nbformat": 4,
  "nbformat_minor": 5
}