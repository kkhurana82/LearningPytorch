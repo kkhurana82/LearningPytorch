{
  "cells": [
    {
      "cell_type": "markdown",
      "metadata": {
        "id": "view-in-github",
        "colab_type": "text"
      },
      "source": [
        "<a href=\"https://colab.research.google.com/github/kkhurana82/LearningPytorch/blob/main/autograd.ipynb\" target=\"_parent\"><img src=\"https://colab.research.google.com/assets/colab-badge.svg\" alt=\"Open In Colab\"/></a>"
      ]
    },
    {
      "cell_type": "code",
      "source": [
        "import torch"
      ],
      "metadata": {
        "id": "cRpBz6QMIZ-F"
      },
      "id": "cRpBz6QMIZ-F",
      "execution_count": 1,
      "outputs": []
    },
    {
      "cell_type": "code",
      "source": [
        "x = torch.tensor(3.0 , requires_grad=True)"
      ],
      "metadata": {
        "id": "AQ2ZLvI4Ib9q"
      },
      "id": "AQ2ZLvI4Ib9q",
      "execution_count": 2,
      "outputs": []
    },
    {
      "cell_type": "code",
      "source": [
        "y = x**2"
      ],
      "metadata": {
        "id": "oblNWvB-L9ci"
      },
      "id": "oblNWvB-L9ci",
      "execution_count": 3,
      "outputs": []
    },
    {
      "cell_type": "code",
      "source": [
        "y"
      ],
      "metadata": {
        "id": "8R5exUyFL-6n",
        "outputId": "d8067afe-fd80-44f1-f197-f20245f78930",
        "colab": {
          "base_uri": "https://localhost:8080/"
        }
      },
      "id": "8R5exUyFL-6n",
      "execution_count": 4,
      "outputs": [
        {
          "output_type": "execute_result",
          "data": {
            "text/plain": [
              "tensor(9., grad_fn=<PowBackward0>)"
            ]
          },
          "metadata": {},
          "execution_count": 4
        }
      ]
    },
    {
      "cell_type": "code",
      "source": [
        "x"
      ],
      "metadata": {
        "id": "hk10hygvL_YF",
        "outputId": "604cf6a6-7e27-49cf-b211-5eca3a122d5b",
        "colab": {
          "base_uri": "https://localhost:8080/"
        }
      },
      "id": "hk10hygvL_YF",
      "execution_count": 5,
      "outputs": [
        {
          "output_type": "execute_result",
          "data": {
            "text/plain": [
              "tensor(3., requires_grad=True)"
            ]
          },
          "metadata": {},
          "execution_count": 5
        }
      ]
    },
    {
      "cell_type": "code",
      "source": [
        "y.backward()"
      ],
      "metadata": {
        "id": "FANzNEUxMAgl"
      },
      "id": "FANzNEUxMAgl",
      "execution_count": 6,
      "outputs": []
    },
    {
      "cell_type": "code",
      "source": [
        "x.grad"
      ],
      "metadata": {
        "id": "ThBK0rPLMGce",
        "outputId": "92c43eca-7244-42ed-fa0c-231752e8b97e",
        "colab": {
          "base_uri": "https://localhost:8080/"
        }
      },
      "id": "ThBK0rPLMGce",
      "execution_count": 7,
      "outputs": [
        {
          "output_type": "execute_result",
          "data": {
            "text/plain": [
              "tensor(6.)"
            ]
          },
          "metadata": {},
          "execution_count": 7
        }
      ]
    },
    {
      "cell_type": "code",
      "source": [],
      "metadata": {
        "id": "HhkujQKCMVoa"
      },
      "id": "HhkujQKCMVoa",
      "execution_count": null,
      "outputs": []
    }
  ],
  "metadata": {
    "language_info": {
      "name": "python"
    },
    "colab": {
      "provenance": [],
      "include_colab_link": true
    },
    "kernelspec": {
      "name": "python3",
      "display_name": "Python 3"
    }
  },
  "nbformat": 4,
  "nbformat_minor": 5
}